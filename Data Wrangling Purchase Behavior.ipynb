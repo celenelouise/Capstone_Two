{
 "cells": [
  {
   "cell_type": "markdown",
   "id": "2603e2f3-d687-4e6a-919f-db0adfa0cd66",
   "metadata": {},
   "source": [
    "Objective:\n",
    "The goal of this project is to develop a predictive machine learning model that forecasts the likelihood of individuals making a purchase based on their age, gender, and annual income. This model will assist businesses in optimizing marketing strategies, targeting the right customer segments, and improving overall sales conversion rates."
   ]
  },
  {
   "cell_type": "markdown",
   "id": "343f9da7-f419-449a-9aae-cc548e92a375",
   "metadata": {},
   "source": [
    "Loading in data"
   ]
  },
  {
   "cell_type": "code",
   "execution_count": 16,
   "id": "cc295901-7a3c-44e8-8190-26ea10df4003",
   "metadata": {},
   "outputs": [],
   "source": [
    "import pandas as pd\n",
    "import numpy as np\n",
    "\n",
    "file = 'customer_purchase_data.csv'\n",
    "cust_data = pd.read_csv(file)"
   ]
  },
  {
   "cell_type": "markdown",
   "id": "2ef4e4ca-a1db-483a-aaf9-0057f95aa8eb",
   "metadata": {},
   "source": [
    "Reading the data"
   ]
  },
  {
   "cell_type": "code",
   "execution_count": 19,
   "id": "deb6edf7-e849-444f-ac76-ca4d956ff3f5",
   "metadata": {},
   "outputs": [
    {
     "data": {
      "text/html": [
       "<div>\n",
       "<style scoped>\n",
       "    .dataframe tbody tr th:only-of-type {\n",
       "        vertical-align: middle;\n",
       "    }\n",
       "\n",
       "    .dataframe tbody tr th {\n",
       "        vertical-align: top;\n",
       "    }\n",
       "\n",
       "    .dataframe thead th {\n",
       "        text-align: right;\n",
       "    }\n",
       "</style>\n",
       "<table border=\"1\" class=\"dataframe\">\n",
       "  <thead>\n",
       "    <tr style=\"text-align: right;\">\n",
       "      <th></th>\n",
       "      <th>Age</th>\n",
       "      <th>Gender</th>\n",
       "      <th>AnnualIncome</th>\n",
       "      <th>NumberOfPurchases</th>\n",
       "      <th>ProductCategory</th>\n",
       "      <th>TimeSpentOnWebsite</th>\n",
       "      <th>LoyaltyProgram</th>\n",
       "      <th>DiscountsAvailed</th>\n",
       "      <th>PurchaseStatus</th>\n",
       "    </tr>\n",
       "  </thead>\n",
       "  <tbody>\n",
       "    <tr>\n",
       "      <th>0</th>\n",
       "      <td>40</td>\n",
       "      <td>1</td>\n",
       "      <td>66120.267939</td>\n",
       "      <td>8</td>\n",
       "      <td>0</td>\n",
       "      <td>30.568601</td>\n",
       "      <td>0</td>\n",
       "      <td>5</td>\n",
       "      <td>1</td>\n",
       "    </tr>\n",
       "    <tr>\n",
       "      <th>1</th>\n",
       "      <td>20</td>\n",
       "      <td>1</td>\n",
       "      <td>23579.773583</td>\n",
       "      <td>4</td>\n",
       "      <td>2</td>\n",
       "      <td>38.240097</td>\n",
       "      <td>0</td>\n",
       "      <td>5</td>\n",
       "      <td>0</td>\n",
       "    </tr>\n",
       "    <tr>\n",
       "      <th>2</th>\n",
       "      <td>27</td>\n",
       "      <td>1</td>\n",
       "      <td>127821.306432</td>\n",
       "      <td>11</td>\n",
       "      <td>2</td>\n",
       "      <td>31.633212</td>\n",
       "      <td>1</td>\n",
       "      <td>0</td>\n",
       "      <td>1</td>\n",
       "    </tr>\n",
       "    <tr>\n",
       "      <th>3</th>\n",
       "      <td>24</td>\n",
       "      <td>1</td>\n",
       "      <td>137798.623120</td>\n",
       "      <td>19</td>\n",
       "      <td>3</td>\n",
       "      <td>46.167059</td>\n",
       "      <td>0</td>\n",
       "      <td>4</td>\n",
       "      <td>1</td>\n",
       "    </tr>\n",
       "    <tr>\n",
       "      <th>4</th>\n",
       "      <td>31</td>\n",
       "      <td>1</td>\n",
       "      <td>99300.964220</td>\n",
       "      <td>19</td>\n",
       "      <td>1</td>\n",
       "      <td>19.823592</td>\n",
       "      <td>0</td>\n",
       "      <td>0</td>\n",
       "      <td>1</td>\n",
       "    </tr>\n",
       "  </tbody>\n",
       "</table>\n",
       "</div>"
      ],
      "text/plain": [
       "   Age  Gender   AnnualIncome  NumberOfPurchases  ProductCategory  \\\n",
       "0   40       1   66120.267939                  8                0   \n",
       "1   20       1   23579.773583                  4                2   \n",
       "2   27       1  127821.306432                 11                2   \n",
       "3   24       1  137798.623120                 19                3   \n",
       "4   31       1   99300.964220                 19                1   \n",
       "\n",
       "   TimeSpentOnWebsite  LoyaltyProgram  DiscountsAvailed  PurchaseStatus  \n",
       "0           30.568601               0                 5               1  \n",
       "1           38.240097               0                 5               0  \n",
       "2           31.633212               1                 0               1  \n",
       "3           46.167059               0                 4               1  \n",
       "4           19.823592               0                 0               1  "
      ]
     },
     "execution_count": 19,
     "metadata": {},
     "output_type": "execute_result"
    }
   ],
   "source": [
    "cust_data.head()"
   ]
  },
  {
   "cell_type": "markdown",
   "id": "422e5307-2ce0-4b49-a724-366738468e82",
   "metadata": {},
   "source": [
    "Understand the data types"
   ]
  },
  {
   "cell_type": "code",
   "execution_count": 22,
   "id": "c7352a7c-875a-4620-9e68-ecbaac6ee9c1",
   "metadata": {
    "scrolled": true
   },
   "outputs": [
    {
     "name": "stdout",
     "output_type": "stream",
     "text": [
      "<class 'pandas.core.frame.DataFrame'>\n",
      "RangeIndex: 1500 entries, 0 to 1499\n",
      "Data columns (total 9 columns):\n",
      " #   Column              Non-Null Count  Dtype  \n",
      "---  ------              --------------  -----  \n",
      " 0   Age                 1500 non-null   int64  \n",
      " 1   Gender              1500 non-null   int64  \n",
      " 2   AnnualIncome        1500 non-null   float64\n",
      " 3   NumberOfPurchases   1500 non-null   int64  \n",
      " 4   ProductCategory     1500 non-null   int64  \n",
      " 5   TimeSpentOnWebsite  1500 non-null   float64\n",
      " 6   LoyaltyProgram      1500 non-null   int64  \n",
      " 7   DiscountsAvailed    1500 non-null   int64  \n",
      " 8   PurchaseStatus      1500 non-null   int64  \n",
      "dtypes: float64(2), int64(7)\n",
      "memory usage: 105.6 KB\n"
     ]
    }
   ],
   "source": [
    "cust_data.info()"
   ]
  },
  {
   "cell_type": "code",
   "execution_count": 54,
   "id": "a8241793-3c58-4220-a2e2-60e85a262e57",
   "metadata": {},
   "outputs": [
    {
     "data": {
      "text/plain": [
       "(1500, 9)"
      ]
     },
     "execution_count": 54,
     "metadata": {},
     "output_type": "execute_result"
    }
   ],
   "source": [
    "cust_data.shape"
   ]
  },
  {
   "cell_type": "markdown",
   "id": "f0561956-d315-49cf-8dcf-9f6c3e4088d8",
   "metadata": {},
   "source": [
    "Check for missing data"
   ]
  },
  {
   "cell_type": "code",
   "execution_count": 35,
   "id": "a5c972e1-2d20-445c-84bc-a088308e0d22",
   "metadata": {},
   "outputs": [
    {
     "name": "stdout",
     "output_type": "stream",
     "text": [
      "                    count    %\n",
      "Age                     0  0.0\n",
      "Gender                  0  0.0\n",
      "AnnualIncome            0  0.0\n",
      "NumberOfPurchases       0  0.0\n",
      "ProductCategory         0  0.0\n",
      "TimeSpentOnWebsite      0  0.0\n",
      "LoyaltyProgram          0  0.0\n",
      "DiscountsAvailed        0  0.0\n",
      "PurchaseStatus          0  0.0\n"
     ]
    }
   ],
   "source": [
    "missing_count = cust_data.isnull().sum()\n",
    "missing_percent = 100 * cust_data.isnull().mean()\n",
    "\n",
    "#Combining into a df\n",
    "missing = pd.concat([missing_count, missing_percent], axis=1)\n",
    "\n",
    "#Renaming cols\n",
    "missing.columns = ['count', '%']\n",
    "\n",
    "#Sorting by count highest first\n",
    "missing = missing.sort_values(by='count', ascending=False)\n",
    "\n",
    "print(missing)"
   ]
  },
  {
   "cell_type": "markdown",
   "id": "0eb906ee-22d2-4b02-83dc-dc723bd95cce",
   "metadata": {},
   "source": [
    "We have 0 missing values in this dataset"
   ]
  },
  {
   "cell_type": "code",
   "execution_count": 38,
   "id": "fd4a005c-67fd-40c8-b1e7-bfcfd84c7b7e",
   "metadata": {},
   "outputs": [
    {
     "data": {
      "text/html": [
       "<div>\n",
       "<style scoped>\n",
       "    .dataframe tbody tr th:only-of-type {\n",
       "        vertical-align: middle;\n",
       "    }\n",
       "\n",
       "    .dataframe tbody tr th {\n",
       "        vertical-align: top;\n",
       "    }\n",
       "\n",
       "    .dataframe thead th {\n",
       "        text-align: right;\n",
       "    }\n",
       "</style>\n",
       "<table border=\"1\" class=\"dataframe\">\n",
       "  <thead>\n",
       "    <tr style=\"text-align: right;\">\n",
       "      <th></th>\n",
       "      <th>Age</th>\n",
       "      <th>Gender</th>\n",
       "      <th>AnnualIncome</th>\n",
       "      <th>NumberOfPurchases</th>\n",
       "      <th>ProductCategory</th>\n",
       "      <th>TimeSpentOnWebsite</th>\n",
       "      <th>LoyaltyProgram</th>\n",
       "      <th>DiscountsAvailed</th>\n",
       "      <th>PurchaseStatus</th>\n",
       "    </tr>\n",
       "  </thead>\n",
       "  <tbody>\n",
       "    <tr>\n",
       "      <th>count</th>\n",
       "      <td>1500.000000</td>\n",
       "      <td>1500.000000</td>\n",
       "      <td>1500.000000</td>\n",
       "      <td>1500.000000</td>\n",
       "      <td>1500.000000</td>\n",
       "      <td>1500.000000</td>\n",
       "      <td>1500.000000</td>\n",
       "      <td>1500.000000</td>\n",
       "      <td>1500.00000</td>\n",
       "    </tr>\n",
       "    <tr>\n",
       "      <th>mean</th>\n",
       "      <td>44.298667</td>\n",
       "      <td>0.504667</td>\n",
       "      <td>84249.164338</td>\n",
       "      <td>10.420000</td>\n",
       "      <td>2.012667</td>\n",
       "      <td>30.469040</td>\n",
       "      <td>0.326667</td>\n",
       "      <td>2.555333</td>\n",
       "      <td>0.43200</td>\n",
       "    </tr>\n",
       "    <tr>\n",
       "      <th>std</th>\n",
       "      <td>15.537259</td>\n",
       "      <td>0.500145</td>\n",
       "      <td>37629.493078</td>\n",
       "      <td>5.887391</td>\n",
       "      <td>1.428005</td>\n",
       "      <td>16.984392</td>\n",
       "      <td>0.469151</td>\n",
       "      <td>1.705152</td>\n",
       "      <td>0.49552</td>\n",
       "    </tr>\n",
       "    <tr>\n",
       "      <th>min</th>\n",
       "      <td>18.000000</td>\n",
       "      <td>0.000000</td>\n",
       "      <td>20001.512518</td>\n",
       "      <td>0.000000</td>\n",
       "      <td>0.000000</td>\n",
       "      <td>1.037023</td>\n",
       "      <td>0.000000</td>\n",
       "      <td>0.000000</td>\n",
       "      <td>0.00000</td>\n",
       "    </tr>\n",
       "    <tr>\n",
       "      <th>25%</th>\n",
       "      <td>31.000000</td>\n",
       "      <td>0.000000</td>\n",
       "      <td>53028.979155</td>\n",
       "      <td>5.000000</td>\n",
       "      <td>1.000000</td>\n",
       "      <td>16.156700</td>\n",
       "      <td>0.000000</td>\n",
       "      <td>1.000000</td>\n",
       "      <td>0.00000</td>\n",
       "    </tr>\n",
       "    <tr>\n",
       "      <th>50%</th>\n",
       "      <td>45.000000</td>\n",
       "      <td>1.000000</td>\n",
       "      <td>83699.581476</td>\n",
       "      <td>11.000000</td>\n",
       "      <td>2.000000</td>\n",
       "      <td>30.939516</td>\n",
       "      <td>0.000000</td>\n",
       "      <td>3.000000</td>\n",
       "      <td>0.00000</td>\n",
       "    </tr>\n",
       "    <tr>\n",
       "      <th>75%</th>\n",
       "      <td>57.000000</td>\n",
       "      <td>1.000000</td>\n",
       "      <td>117167.772858</td>\n",
       "      <td>15.000000</td>\n",
       "      <td>3.000000</td>\n",
       "      <td>44.369863</td>\n",
       "      <td>1.000000</td>\n",
       "      <td>4.000000</td>\n",
       "      <td>1.00000</td>\n",
       "    </tr>\n",
       "    <tr>\n",
       "      <th>max</th>\n",
       "      <td>70.000000</td>\n",
       "      <td>1.000000</td>\n",
       "      <td>149785.176481</td>\n",
       "      <td>20.000000</td>\n",
       "      <td>4.000000</td>\n",
       "      <td>59.991105</td>\n",
       "      <td>1.000000</td>\n",
       "      <td>5.000000</td>\n",
       "      <td>1.00000</td>\n",
       "    </tr>\n",
       "  </tbody>\n",
       "</table>\n",
       "</div>"
      ],
      "text/plain": [
       "               Age       Gender   AnnualIncome  NumberOfPurchases  \\\n",
       "count  1500.000000  1500.000000    1500.000000        1500.000000   \n",
       "mean     44.298667     0.504667   84249.164338          10.420000   \n",
       "std      15.537259     0.500145   37629.493078           5.887391   \n",
       "min      18.000000     0.000000   20001.512518           0.000000   \n",
       "25%      31.000000     0.000000   53028.979155           5.000000   \n",
       "50%      45.000000     1.000000   83699.581476          11.000000   \n",
       "75%      57.000000     1.000000  117167.772858          15.000000   \n",
       "max      70.000000     1.000000  149785.176481          20.000000   \n",
       "\n",
       "       ProductCategory  TimeSpentOnWebsite  LoyaltyProgram  DiscountsAvailed  \\\n",
       "count      1500.000000         1500.000000     1500.000000       1500.000000   \n",
       "mean          2.012667           30.469040        0.326667          2.555333   \n",
       "std           1.428005           16.984392        0.469151          1.705152   \n",
       "min           0.000000            1.037023        0.000000          0.000000   \n",
       "25%           1.000000           16.156700        0.000000          1.000000   \n",
       "50%           2.000000           30.939516        0.000000          3.000000   \n",
       "75%           3.000000           44.369863        1.000000          4.000000   \n",
       "max           4.000000           59.991105        1.000000          5.000000   \n",
       "\n",
       "       PurchaseStatus  \n",
       "count      1500.00000  \n",
       "mean          0.43200  \n",
       "std           0.49552  \n",
       "min           0.00000  \n",
       "25%           0.00000  \n",
       "50%           0.00000  \n",
       "75%           1.00000  \n",
       "max           1.00000  "
      ]
     },
     "execution_count": 38,
     "metadata": {},
     "output_type": "execute_result"
    }
   ],
   "source": [
    "cust_data.describe()"
   ]
  },
  {
   "cell_type": "markdown",
   "id": "136e1764-6ecb-4b93-bc28-968f8ceb8b67",
   "metadata": {},
   "source": [
    "Looks like there is no obvious outliers and we have equal counts for each column"
   ]
  },
  {
   "cell_type": "code",
   "execution_count": 58,
   "id": "aba8a91e-6b73-41dd-ab3d-991b45c765ba",
   "metadata": {},
   "outputs": [
    {
     "data": {
      "text/plain": [
       "112"
      ]
     },
     "execution_count": 58,
     "metadata": {},
     "output_type": "execute_result"
    }
   ],
   "source": [
    "cust_data.duplicated().sum()"
   ]
  },
  {
   "cell_type": "markdown",
   "id": "b2eb1a42-f9d4-4618-b27f-101c93b9918a",
   "metadata": {},
   "source": [
    "So there are duplicates, but I am unsure if we should drop or keep them? For now I will keep"
   ]
  },
  {
   "cell_type": "markdown",
   "id": "ca56a53b-f86a-4e87-a9dc-7000ba544534",
   "metadata": {},
   "source": [
    "Now I am going to focus on the columns and their dtypes"
   ]
  },
  {
   "cell_type": "code",
   "execution_count": 43,
   "id": "f995aeaa-94c2-4bd3-bd5c-9b4696205b73",
   "metadata": {},
   "outputs": [
    {
     "name": "stdout",
     "output_type": "stream",
     "text": [
      "0     40\n",
      "1     20\n",
      "2     27\n",
      "3     24\n",
      "4     31\n",
      "5     66\n",
      "6     39\n",
      "7     64\n",
      "8     43\n",
      "9     20\n",
      "10    66\n",
      "11    70\n",
      "12    54\n",
      "13    64\n",
      "14    19\n",
      "15    70\n",
      "16    51\n",
      "17    18\n",
      "18    57\n",
      "19    20\n",
      "Name: Age, dtype: int64\n"
     ]
    }
   ],
   "source": [
    "print(cust_data['Age'].head(20))"
   ]
  },
  {
   "cell_type": "markdown",
   "id": "237a9b80-f354-4f59-9d1e-b869d589cb83",
   "metadata": {},
   "source": [
    "I do not think we need to make any changes to the 'Age' col"
   ]
  },
  {
   "cell_type": "code",
   "execution_count": 46,
   "id": "acdd5afa-393e-4895-a1b5-ae27e508d264",
   "metadata": {},
   "outputs": [
    {
     "name": "stdout",
     "output_type": "stream",
     "text": [
      "0     1\n",
      "1     1\n",
      "2     1\n",
      "3     1\n",
      "4     1\n",
      "5     1\n",
      "6     1\n",
      "7     1\n",
      "8     0\n",
      "9     1\n",
      "10    1\n",
      "11    1\n",
      "12    0\n",
      "13    1\n",
      "14    1\n",
      "15    1\n",
      "16    1\n",
      "17    1\n",
      "18    0\n",
      "19    0\n",
      "Name: Gender, dtype: int64\n"
     ]
    }
   ],
   "source": [
    "print(cust_data['Gender'].head(20))"
   ]
  },
  {
   "cell_type": "markdown",
   "id": "3033dcb3-835a-42aa-9f2e-ac4d58bc169c",
   "metadata": {},
   "source": [
    "Male = 0, Female = 1, no changes needed here either. Perhaps changing the dtype to a 'category'?"
   ]
  },
  {
   "cell_type": "code",
   "execution_count": 49,
   "id": "513b55b5-0c4f-4cc7-b064-b4cde08cb547",
   "metadata": {},
   "outputs": [
    {
     "name": "stdout",
     "output_type": "stream",
     "text": [
      "0      66120.267939\n",
      "1      23579.773583\n",
      "2     127821.306432\n",
      "3     137798.623120\n",
      "4      99300.964220\n",
      "5      37758.117475\n",
      "6     126883.385286\n",
      "7      39707.359724\n",
      "8     102797.301269\n",
      "9      63854.921080\n",
      "10     66199.993929\n",
      "11     83556.718133\n",
      "12    114467.228969\n",
      "13     31880.893223\n",
      "14    107485.660911\n",
      "15     67049.598809\n",
      "16    129174.208866\n",
      "17    128374.495052\n",
      "18     71740.688084\n",
      "19    121499.006189\n",
      "Name: AnnualIncome, dtype: float64\n"
     ]
    }
   ],
   "source": [
    "print(cust_data['AnnualIncome'].head(20))"
   ]
  },
  {
   "cell_type": "markdown",
   "id": "6788e36a-8389-4a34-8ef7-094873de09ec",
   "metadata": {},
   "source": [
    "This also looks good, only thing I could imagine adjusting would be shortnening this number, but likely not necessary"
   ]
  }
 ],
 "metadata": {
  "kernelspec": {
   "display_name": "Python 3 (ipykernel)",
   "language": "python",
   "name": "python3"
  },
  "language_info": {
   "codemirror_mode": {
    "name": "ipython",
    "version": 3
   },
   "file_extension": ".py",
   "mimetype": "text/x-python",
   "name": "python",
   "nbconvert_exporter": "python",
   "pygments_lexer": "ipython3",
   "version": "3.12.4"
  }
 },
 "nbformat": 4,
 "nbformat_minor": 5
}
